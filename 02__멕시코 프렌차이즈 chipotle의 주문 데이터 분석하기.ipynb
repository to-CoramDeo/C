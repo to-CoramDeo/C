{
 "cells": [
  {
   "cell_type": "markdown",
   "id": "192cae7c",
   "metadata": {},
   "source": [
    "<h2>Step1 데이터 기초 정보 살펴보기</h2>"
   ]
  },
  {
   "cell_type": "markdown",
   "id": "f0ae4dcf",
   "metadata": {},
   "source": [
    "<h3> (1) chipotle 데이터셋의 기초 정보 출력 </h3>"
   ]
  },
  {
   "cell_type": "code",
   "execution_count": 4,
   "id": "adeedd19",
   "metadata": {},
   "outputs": [
    {
     "name": "stdout",
     "output_type": "stream",
     "text": [
      "(4622, 5)\n",
      "----------------------------------\n",
      "<class 'pandas.core.frame.DataFrame'>\n",
      "RangeIndex: 4622 entries, 0 to 4621\n",
      "Data columns (total 5 columns):\n",
      " #   Column              Non-Null Count  Dtype \n",
      "---  ------              --------------  ----- \n",
      " 0   order_id            4622 non-null   int64 \n",
      " 1   quantity            4622 non-null   int64 \n",
      " 2   item_name           4622 non-null   object\n",
      " 3   choice_description  3376 non-null   object\n",
      " 4   item_price          4622 non-null   object\n",
      "dtypes: int64(2), object(3)\n",
      "memory usage: 180.7+ KB\n",
      "None\n"
     ]
    }
   ],
   "source": [
    "import pandas as pd # 데이터 프레임을 자료구조로 사용\n",
    " \n",
    "file_path = '../kaggle/chipotle.tsv' # **'..'은 한 폴더 위라는 의미다.\n",
    "chipo = pd.read_csv(file_path, sep = '\\t') # ---> read_csv() 함수로 데이터를 데이터 프레임 형태로 불러온다.\n",
    "\n",
    "print(chipo.shape) # ---> 데이터프레임의 행과 열을 반환한다. 해당 파일은 4622행, 5열\n",
    "print(\"----------------------------------\")\n",
    "print(chipo.info()) # ---> 행과 열의 구성 정보를 반환한다. "
   ]
  },
  {
   "cell_type": "markdown",
   "id": "6fe3818f",
   "metadata": {},
   "source": [
    "🧡매빈쓰 분석🧡\n",
    "<ol>\n",
    "    <li>(행, 열)은 (4622, 5)</li>\n",
    "    <li>(열=피처=측정요소)는 아래의 5가지로 되어 있고</li>\n",
    "    <ol>\n",
    "        <li>order_id</li>\n",
    "        <li>quantity</li>\n",
    "        <li>item_name</li>\n",
    "        <li>choice_description</li>\n",
    "        <li>item_price</li>\n",
    "    </ol>\n",
    "    <li>결측값은 유일하게 choice_description만 1246개 있다</li>\n",
    "    <li>각 피처의 데이터 타입은 아래로 되어 있다.</li>\n",
    "    <ol>\n",
    "        <li>order_id--> 정수</li>\n",
    "        <li>quantity--> 정수</li>\n",
    "        <li>item_name--> 문자열</li>\n",
    "        <li>choice_description--> 문자열</li>\n",
    "        <li>item_price--> 문자열</li>\n",
    "    </ol>\n",
    "</ol>"
   ]
  },
  {
   "cell_type": "markdown",
   "id": "73bff3b2",
   "metadata": {},
   "source": [
    "<h4>기본자료구조: 데이터 프레임</h4>\n",
    "<ul>\n",
    "    <li>object: 문자열</li>\n",
    "    <li>null: 결측값</li>\n",
    "</ul>\n",
    "ex) choice_description는 3,376개의 비어 있지 않은 문자열 데이터가 있다는 정보이다. 결측값은 (4,622-3,376=)1,246개다."
   ]
  },
  {
   "cell_type": "markdown",
   "id": "43e89975",
   "metadata": {},
   "source": [
    "<h3> (2) 데이터셋의 데이터, 행, 열 확인</h3>"
   ]
  },
  {
   "cell_type": "code",
   "execution_count": 5,
   "id": "0c971531",
   "metadata": {},
   "outputs": [
    {
     "data": {
      "text/html": [
       "<div>\n",
       "<style scoped>\n",
       "    .dataframe tbody tr th:only-of-type {\n",
       "        vertical-align: middle;\n",
       "    }\n",
       "\n",
       "    .dataframe tbody tr th {\n",
       "        vertical-align: top;\n",
       "    }\n",
       "\n",
       "    .dataframe thead th {\n",
       "        text-align: right;\n",
       "    }\n",
       "</style>\n",
       "<table border=\"1\" class=\"dataframe\">\n",
       "  <thead>\n",
       "    <tr style=\"text-align: right;\">\n",
       "      <th></th>\n",
       "      <th>order_id</th>\n",
       "      <th>quantity</th>\n",
       "      <th>item_name</th>\n",
       "      <th>choice_description</th>\n",
       "      <th>item_price</th>\n",
       "    </tr>\n",
       "  </thead>\n",
       "  <tbody>\n",
       "    <tr>\n",
       "      <th>0</th>\n",
       "      <td>1</td>\n",
       "      <td>1</td>\n",
       "      <td>Chips and Fresh Tomato Salsa</td>\n",
       "      <td>NaN</td>\n",
       "      <td>$2.39</td>\n",
       "    </tr>\n",
       "    <tr>\n",
       "      <th>1</th>\n",
       "      <td>1</td>\n",
       "      <td>1</td>\n",
       "      <td>Izze</td>\n",
       "      <td>[Clementine]</td>\n",
       "      <td>$3.39</td>\n",
       "    </tr>\n",
       "    <tr>\n",
       "      <th>2</th>\n",
       "      <td>1</td>\n",
       "      <td>1</td>\n",
       "      <td>Nantucket Nectar</td>\n",
       "      <td>[Apple]</td>\n",
       "      <td>$3.39</td>\n",
       "    </tr>\n",
       "    <tr>\n",
       "      <th>3</th>\n",
       "      <td>1</td>\n",
       "      <td>1</td>\n",
       "      <td>Chips and Tomatillo-Green Chili Salsa</td>\n",
       "      <td>NaN</td>\n",
       "      <td>$2.39</td>\n",
       "    </tr>\n",
       "    <tr>\n",
       "      <th>4</th>\n",
       "      <td>2</td>\n",
       "      <td>2</td>\n",
       "      <td>Chicken Bowl</td>\n",
       "      <td>[Tomatillo-Red Chili Salsa (Hot), [Black Beans...</td>\n",
       "      <td>$16.98</td>\n",
       "    </tr>\n",
       "    <tr>\n",
       "      <th>5</th>\n",
       "      <td>3</td>\n",
       "      <td>1</td>\n",
       "      <td>Chicken Bowl</td>\n",
       "      <td>[Fresh Tomato Salsa (Mild), [Rice, Cheese, Sou...</td>\n",
       "      <td>$10.98</td>\n",
       "    </tr>\n",
       "    <tr>\n",
       "      <th>6</th>\n",
       "      <td>3</td>\n",
       "      <td>1</td>\n",
       "      <td>Side of Chips</td>\n",
       "      <td>NaN</td>\n",
       "      <td>$1.69</td>\n",
       "    </tr>\n",
       "    <tr>\n",
       "      <th>7</th>\n",
       "      <td>4</td>\n",
       "      <td>1</td>\n",
       "      <td>Steak Burrito</td>\n",
       "      <td>[Tomatillo Red Chili Salsa, [Fajita Vegetables...</td>\n",
       "      <td>$11.75</td>\n",
       "    </tr>\n",
       "    <tr>\n",
       "      <th>8</th>\n",
       "      <td>4</td>\n",
       "      <td>1</td>\n",
       "      <td>Steak Soft Tacos</td>\n",
       "      <td>[Tomatillo Green Chili Salsa, [Pinto Beans, Ch...</td>\n",
       "      <td>$9.25</td>\n",
       "    </tr>\n",
       "    <tr>\n",
       "      <th>9</th>\n",
       "      <td>5</td>\n",
       "      <td>1</td>\n",
       "      <td>Steak Burrito</td>\n",
       "      <td>[Fresh Tomato Salsa, [Rice, Black Beans, Pinto...</td>\n",
       "      <td>$9.25</td>\n",
       "    </tr>\n",
       "  </tbody>\n",
       "</table>\n",
       "</div>"
      ],
      "text/plain": [
       "   order_id  quantity                              item_name  \\\n",
       "0         1         1           Chips and Fresh Tomato Salsa   \n",
       "1         1         1                                   Izze   \n",
       "2         1         1                       Nantucket Nectar   \n",
       "3         1         1  Chips and Tomatillo-Green Chili Salsa   \n",
       "4         2         2                           Chicken Bowl   \n",
       "5         3         1                           Chicken Bowl   \n",
       "6         3         1                          Side of Chips   \n",
       "7         4         1                          Steak Burrito   \n",
       "8         4         1                       Steak Soft Tacos   \n",
       "9         5         1                          Steak Burrito   \n",
       "\n",
       "                                  choice_description item_price  \n",
       "0                                                NaN     $2.39   \n",
       "1                                       [Clementine]     $3.39   \n",
       "2                                            [Apple]     $3.39   \n",
       "3                                                NaN     $2.39   \n",
       "4  [Tomatillo-Red Chili Salsa (Hot), [Black Beans...    $16.98   \n",
       "5  [Fresh Tomato Salsa (Mild), [Rice, Cheese, Sou...    $10.98   \n",
       "6                                                NaN     $1.69   \n",
       "7  [Tomatillo Red Chili Salsa, [Fajita Vegetables...    $11.75   \n",
       "8  [Tomatillo Green Chili Salsa, [Pinto Beans, Ch...     $9.25   \n",
       "9  [Fresh Tomato Salsa, [Rice, Black Beans, Pinto...     $9.25   "
      ]
     },
     "execution_count": 5,
     "metadata": {},
     "output_type": "execute_result"
    }
   ],
   "source": [
    "chipo.head(10) # ---> 10개의 데이터를 보여줍니다."
   ]
  },
  {
   "cell_type": "code",
   "execution_count": 6,
   "id": "4cbd6640",
   "metadata": {},
   "outputs": [
    {
     "name": "stdout",
     "output_type": "stream",
     "text": [
      "Index(['order_id', 'quantity', 'item_name', 'choice_description',\n",
      "       'item_price'],\n",
      "      dtype='object')\n",
      "----------------------------\n",
      "RangeIndex(start=0, stop=4622, step=1)\n"
     ]
    }
   ],
   "source": [
    "print(chipo.columns) # --> 행의 목록을 호출합니다.\n",
    "print(\"----------------------------\")\n",
    "print(chipo.index) # --> 열의 목록을 호출합니다."
   ]
  },
  {
   "cell_type": "markdown",
   "id": "d52fdc40",
   "metadata": {},
   "source": [
    "🧡매빈쓰 분석🧡\n",
    "<ol>\n",
    "    <li>주문번호 N님이 시키신 메뉴 개수(item_name)와 수량(quantity)을 알 수 있군요!</li>\n",
    "    <ol>\n",
    "        <li>주문번호 1님은 4개 메뉴를 1개씩 시키셨네요.</li>\n",
    "        <li>주문번호 2님은 1개 메뉴를 2개 시키셨네요.</li>\n",
    "        <li>주문번호 3님은 2개 메뉴를 1개씩 시키셨네요.</li>\n",
    "        <li>주문번호 4님은 2개 메뉴를 1개씩 시키셨네요.</li>\n",
    "        <li>주분번호 5님은 1+a개 메뉴를 1개 혹은 N개씩 시키셨네요.</li>\n",
    "    </ol>\n",
    "    <li>같은 메뉴라도 상세 선택이 다르다면 가격이 다르군요!</li>\n",
    "    <ol>\n",
    "        <li>주문번호 2님이 시키신 chicken bowl은 2개 가격이 16.98인데</li>\n",
    "        <li>주문번호 3님이 시키신 chicken bowl은 1개 가격이 10.98이네요</li>\n",
    "    </ol>\n",
    "    <ol>\n",
    "        <li>주문번호 4님이 시키신 steak burrito은 1개 가격이 11.75인데</li>\n",
    "        <li>주문번호 5님이 시키신 steak burrito은 1개 가격이 9.25이네요</li>\n",
    "    </ol>\n",
    "    <li>수치형/범주형 피처로 나눠보면! --> 후에 사용될 함수가 달라지므로 중요합니다!</li>\n",
    "    <ol>\n",
    "        <li>order_id는 숫자형 자료지만, 순서있는 범주형 피처네요</li>\n",
    "        <li>quantity는 숫자형 자료이고, 연속형 수치형 피처네요.</li>\n",
    "        <li>item_name은 문자열 자료고, 순서없는 범주형 피처네요.</li>\n",
    "        <li>choice_description은 어떻게 봐야 할까요...?</li>\n",
    "        <li>itme_price는 문자열 자료고, 연속형 수치형 피처네요.</li>\n",
    "    </ol>\n",
    "</ol>"
   ]
  },
  {
   "cell_type": "markdown",
   "id": "adceaf29",
   "metadata": {},
   "source": [
    "<h4>🔴데이터 피처들의 속성🔴</h4>\n",
    "<ol>\n",
    "    <li>수치형 피처(Numerical Feature)</li>\n",
    "    <ul><li>연속형 피처</li>\n",
    "    <ul><li>어떤 구간 안의 모든 값(연속적)</li>\n",
    "        <li>quantity, item_price, 키, 몸무게</li></ul>\n",
    "    <li>비연속형 피처</li>\n",
    "    <ul><li>일정 구간 안에서 정해진 몇 개의 값</li>\n",
    "        <li>나이</li></ul></ul>\n",
    "    <li>범주형 피처(Catagorical Feature)</li>\n",
    "    <ul><li>순서 있는 범주형 피처</li>\n",
    "        <ul><li>순서는 있음, 숫자는 아님</li>\n",
    "            <li>order_id, 학점</li></ul>\n",
    "        <li>순서 없는 범주형 피처</li>\n",
    "            <ul><li>데이터가 구분됨, 순서는 없음</li>\n",
    "            <li>item_name, 혈액형</li></ul></ol>"
   ]
  },
  {
   "cell_type": "markdown",
   "id": "e7ccf231",
   "metadata": {},
   "source": [
    "<h3>(3) 수치형 피처의 기초 통계량</h3>"
   ]
  },
  {
   "cell_type": "markdown",
   "id": "4d682833",
   "metadata": {},
   "source": [
    "해당 데이터셋에서 수치형 피처는 quantity, item_price가 있다."
   ]
  },
  {
   "cell_type": "code",
   "execution_count": 7,
   "id": "5cd23576",
   "metadata": {},
   "outputs": [
    {
     "name": "stdout",
     "output_type": "stream",
     "text": [
      "          quantity\n",
      "count  4622.000000\n",
      "mean      1.075725\n",
      "std       0.410186\n",
      "min       1.000000\n",
      "25%       1.000000\n",
      "50%       1.000000\n",
      "75%       1.000000\n",
      "max      15.000000\n"
     ]
    }
   ],
   "source": [
    "chipo['order_id'] = chipo['order_id'].astype(str) # order_id는 숫자의 의미가 아니기 때문에 str로 변환한다.\n",
    "print(chipo.describe()) # ---> describe(chipo 데이터 프레임에서 수치형 피처들의 기초 통계량을 반환한다.)"
   ]
  },
  {
   "cell_type": "markdown",
   "id": "844089a3",
   "metadata": {},
   "source": [
    "🧡매빈쓰 분석🧡<br>\n",
    "위의 데이터셋에서 수치형 피처는 quantity인데요.\n",
    "1. qunatity의 평균이 1.075인 것으로 보아, 대부분의 사람들은 하나의 메뉴를 1개 시켜 먹나 봐요. ---> 이런 것을 ⭐️Insight⭐️라고 한대요\n",
    "2. 한 개의 메뉴를 15개 시켜먹은 경우가 있네요. 아마 단체 손님이었겠죠??"
   ]
  },
  {
   "cell_type": "markdown",
   "id": "46c406a9",
   "metadata": {},
   "source": [
    "🔔질문!!!🔔</br>\n",
    "\n",
    "🙋‍♀️수치형 피처는 quantity, item_price인데 왜 quantity만 한 거에요???<br>\n",
    "🙇‍♀️네! 좋은 질문입니다!!!<br>\n",
    "item_price는 문자열로 되어 있기 때문에, describe()를 사용할 수 없어요 ㅠ__ㅠ<br>\n",
    "그렇지만! 데이터 전처리 과정을 거치면 사용할 수 있답니다!! ---> Step3에서 배울 것임!<br>"
   ]
  },
  {
   "cell_type": "markdown",
   "id": "2bbfde8f",
   "metadata": {},
   "source": [
    "<h3>(4) 범주형 피처의 개수</h3>"
   ]
  },
  {
   "cell_type": "code",
   "execution_count": 8,
   "id": "0e953c6e",
   "metadata": {},
   "outputs": [
    {
     "name": "stdout",
     "output_type": "stream",
     "text": [
      "1834\n",
      "50\n"
     ]
    }
   ],
   "source": [
    "print(len(chipo['order_id'].unique())) # --> order_id의 범주의 길이를 반환한다.\n",
    "print(len(chipo['item_name'].unique())) # --> item_name의 범주의 길이를 반환한다."
   ]
  },
  {
   "cell_type": "markdown",
   "id": "230e970c",
   "metadata": {},
   "source": [
    "🧡매빈쓰 분석🧡<br>\n",
    "1. 주문번호가 1834까지 있구나!<br>\n",
    "2. 프렌차이즈의 메뉴는 50가지구나!...요리사 대단하다!!<br>"
   ]
  },
  {
   "cell_type": "markdown",
   "id": "4a17699c",
   "metadata": {},
   "source": [
    "<h2>Step2 데이터 탐색과 시각화로 인사이트 발견하기</h2>"
   ]
  },
  {
   "cell_type": "markdown",
   "id": "a780f823",
   "metadata": {},
   "source": [
    "<h3> 탐색(1) 가장 많이 주문한 아이템 TOP 10 </h3>"
   ]
  },
  {
   "cell_type": "code",
   "execution_count": 9,
   "id": "fc7795fd",
   "metadata": {},
   "outputs": [
    {
     "name": "stdout",
     "output_type": "stream",
     "text": [
      "Top 1 : Chicken Bowl 726\n",
      "Top 2 : Chicken Burrito 553\n",
      "Top 3 : Chips and Guacamole 479\n",
      "Top 4 : Steak Burrito 368\n",
      "Top 5 : Canned Soft Drink 301\n",
      "Top 6 : Steak Bowl 211\n",
      "Top 7 : Chips 211\n",
      "Top 8 : Bottled Water 162\n",
      "Top 9 : Chicken Soft Tacos 115\n",
      "Top 10 : Chips and Fresh Tomato Salsa 110\n"
     ]
    }
   ],
   "source": [
    "item_count = chipo['item_name'].value_counts()[:10] # --> 데이터프레임['피처']는 데이터프레임을 시리즈객체로 반환하여.개수(를 셉니다.)\n",
    "\n",
    "for idx, (val, cnt) in enumerate(item_count.iteritems(), 1): # ---> 솔직히 이해 못 함\n",
    "    print(\"Top\", idx, \":\", val, cnt)"
   ]
  },
  {
   "cell_type": "markdown",
   "id": "abb5e55d",
   "metadata": {},
   "source": [
    "🔔질문!!!🔔\n",
    "\n",
    "🙋‍♀️선생님!! 데이터 프레임은 뭐고 시리즈 객체는 무엇인가요??!<br>\n",
    "🙇‍♀️네~ 판다스의 자료구조는 아래의 3가지고 구성되어 있으며, 모두 키와 인덱스를 포함합니다.\n",
    "<ol>\n",
    "    <li>시리즈 --> 1차원</li>\n",
    "    <li>데이터 프레임 --> 2차원</li>\n",
    "    <li>패널</li>\n",
    "</ol>"
   ]
  },
  {
   "cell_type": "markdown",
   "id": "c0bc30dc",
   "metadata": {},
   "source": [
    "<h4>파이썬의 반복문 - for문</h4> ---> 이걸 봐도 이해 못함\n",
    "\n",
    "python의 for문 사용법입니다.<br>\n",
    "<p>\n",
    "    <b>1. 기본 구조</b><br>\n",
    "for item in iterable: # ---> iterable: 반복가능한 개체 <br>\n",
    "    ------반복할 구문------\n",
    "</p>\n",
    "<p>\n",
    "    <b>2. 반복할 범위 설정</b><br>\n",
    "    for i in range(시작숫자, 종료숫자, step):<br>\n",
    "        print(i)\n",
    "</p>\n",
    "<p>\n",
    "    <b>3.인덱스 번호와 컬렉션의 원소를 tuple 형태로 반환</b><br>\n",
    "    for i in enumerate(t):<br>\n",
    "        print(p)\n",
    "</p>\n",
    "\n",
    "\n",
    "**반복가능한개체?? list, dictionary, set, string, tuple, bytes"
   ]
  },
  {
   "cell_type": "markdown",
   "id": "6e31ae91",
   "metadata": {},
   "source": [
    "<h3>탐색(2) 아이템별 주문 개수와 총량</h3>"
   ]
  },
  {
   "cell_type": "code",
   "execution_count": 10,
   "id": "ae3a8910",
   "metadata": {},
   "outputs": [
    {
     "data": {
      "text/plain": [
       "item_name\n",
       "6 Pack Soft Drink         54\n",
       "Barbacoa Bowl             66\n",
       "Barbacoa Burrito          91\n",
       "Barbacoa Crispy Tacos     11\n",
       "Barbacoa Salad Bowl       10\n",
       "Barbacoa Soft Tacos       25\n",
       "Bottled Water            162\n",
       "Bowl                       2\n",
       "Burrito                    6\n",
       "Canned Soda              104\n",
       "Name: order_id, dtype: int64"
      ]
     },
     "execution_count": 10,
     "metadata": {},
     "output_type": "execute_result"
    }
   ],
   "source": [
    "# <----------------------주문 개수-------------------------->\n",
    "# 판다스의 groupby()는 데이터 프레임에서 특정 피처를 기준으로 그룹을 생성합니다.\n",
    "# 이는 그룹별 연산을 가능하게 합니다.\n",
    "order_count = chipo.groupby('item_name')['order_id'].count() # --> item_name 기준으로 order_id 개수를 반환합니다.\n",
    "order_count[:10]"
   ]
  },
  {
   "cell_type": "markdown",
   "id": "630ac88a",
   "metadata": {},
   "source": [
    "🧡매빈쓰 분석🧡<br>\n",
    "1. item_naem을 기준으로 정렬합니다.<br>\n",
    "2. 문자보다는 숫자가 앞에 옵니다.<br>"
   ]
  },
  {
   "cell_type": "code",
   "execution_count": 11,
   "id": "56ccd4b2",
   "metadata": {},
   "outputs": [
    {
     "data": {
      "text/plain": [
       "item_name\n",
       "6 Pack Soft Drink         55\n",
       "Barbacoa Bowl             66\n",
       "Barbacoa Burrito          91\n",
       "Barbacoa Crispy Tacos     12\n",
       "Barbacoa Salad Bowl       10\n",
       "Barbacoa Soft Tacos       25\n",
       "Bottled Water            211\n",
       "Bowl                       4\n",
       "Burrito                    6\n",
       "Canned Soda              126\n",
       "Name: quantity, dtype: int64"
      ]
     },
     "execution_count": 11,
     "metadata": {},
     "output_type": "execute_result"
    }
   ],
   "source": [
    "# <-----------------------주문 총량---------------------------->\n",
    "item_quantity = chipo.groupby('item_name')['quantity'].sum() # --> item_name 기준으로 quantity 합을 반환합니다.\n",
    "item_quantity[:10]"
   ]
  },
  {
   "cell_type": "markdown",
   "id": "ef9d2345",
   "metadata": {},
   "source": [
    "<h3>데이터 시각화 하기</h3>"
   ]
  },
  {
   "cell_type": "code",
   "execution_count": 11,
   "id": "3e254505",
   "metadata": {},
   "outputs": [
    {
     "data": {
      "image/png": "[encoded data removed]",
      "text/plain": [
       "<Figure size 432x288 with 1 Axes>"
      ]
     },
     "metadata": {
      "needs_background": "light"
     },
     "output_type": "display_data"
    }
   ],
   "source": [
    "%matplotlib inline\n",
    "import numpy as np\n",
    "import matplotlib.pyplot as plt\n",
    "\n",
    "item_name_list = item_quantity.index.tolist()\n",
    "x_pos = np.arange(len(item_name_list))\n",
    "order_cnt = item_quantity.values.tolist()\n",
    "\n",
    "plt.bar(x_pos, order_cnt, align='center')\n",
    "plt.ylabel('ordered_item_count')\n",
    "plt.title('Distribution of all ordered item')\n",
    "\n",
    "plt.show()"
   ]
  },
  {
   "cell_type": "markdown",
   "id": "0340d2a8",
   "metadata": {},
   "source": [
    "<h2>Step3 데이터 전처리 함수 사용하기</h2>"
   ]
  },
  {
   "cell_type": "code",
   "execution_count": 12,
   "id": "8e109d70",
   "metadata": {},
   "outputs": [
    {
     "name": "stdout",
     "output_type": "stream",
     "text": [
      "<class 'pandas.core.frame.DataFrame'>\n",
      "RangeIndex: 4622 entries, 0 to 4621\n",
      "Data columns (total 5 columns):\n",
      " #   Column              Non-Null Count  Dtype \n",
      "---  ------              --------------  ----- \n",
      " 0   order_id            4622 non-null   object\n",
      " 1   quantity            4622 non-null   int64 \n",
      " 2   item_name           4622 non-null   object\n",
      " 3   choice_description  3376 non-null   object\n",
      " 4   item_price          4622 non-null   object\n",
      "dtypes: int64(1), object(4)\n",
      "memory usage: 180.7+ KB\n",
      "None\n",
      "-----------------------------------\n"
     ]
    },
    {
     "data": {
      "text/plain": [
       "0     $2.39 \n",
       "1     $3.39 \n",
       "2     $3.39 \n",
       "3     $2.39 \n",
       "4    $16.98 \n",
       "Name: item_price, dtype: object"
      ]
     },
     "execution_count": 12,
     "metadata": {},
     "output_type": "execute_result"
    }
   ],
   "source": [
    "print(chipo.info())\n",
    "print('-----------------------------------')\n",
    "chipo['item_price'].head()"
   ]
  },
  {
   "cell_type": "code",
   "execution_count": 13,
   "id": "0f364b1e",
   "metadata": {},
   "outputs": [
    {
     "data": {
      "text/html": [
       "<div>\n",
       "<style scoped>\n",
       "    .dataframe tbody tr th:only-of-type {\n",
       "        vertical-align: middle;\n",
       "    }\n",
       "\n",
       "    .dataframe tbody tr th {\n",
       "        vertical-align: top;\n",
       "    }\n",
       "\n",
       "    .dataframe thead th {\n",
       "        text-align: right;\n",
       "    }\n",
       "</style>\n",
       "<table border=\"1\" class=\"dataframe\">\n",
       "  <thead>\n",
       "    <tr style=\"text-align: right;\">\n",
       "      <th></th>\n",
       "      <th>quantity</th>\n",
       "      <th>item_price</th>\n",
       "    </tr>\n",
       "  </thead>\n",
       "  <tbody>\n",
       "    <tr>\n",
       "      <th>count</th>\n",
       "      <td>4622.000000</td>\n",
       "      <td>4622.000000</td>\n",
       "    </tr>\n",
       "    <tr>\n",
       "      <th>mean</th>\n",
       "      <td>1.075725</td>\n",
       "      <td>7.464336</td>\n",
       "    </tr>\n",
       "    <tr>\n",
       "      <th>std</th>\n",
       "      <td>0.410186</td>\n",
       "      <td>4.245557</td>\n",
       "    </tr>\n",
       "    <tr>\n",
       "      <th>min</th>\n",
       "      <td>1.000000</td>\n",
       "      <td>1.090000</td>\n",
       "    </tr>\n",
       "    <tr>\n",
       "      <th>25%</th>\n",
       "      <td>1.000000</td>\n",
       "      <td>3.390000</td>\n",
       "    </tr>\n",
       "    <tr>\n",
       "      <th>50%</th>\n",
       "      <td>1.000000</td>\n",
       "      <td>8.750000</td>\n",
       "    </tr>\n",
       "    <tr>\n",
       "      <th>75%</th>\n",
       "      <td>1.000000</td>\n",
       "      <td>9.250000</td>\n",
       "    </tr>\n",
       "    <tr>\n",
       "      <th>max</th>\n",
       "      <td>15.000000</td>\n",
       "      <td>44.250000</td>\n",
       "    </tr>\n",
       "  </tbody>\n",
       "</table>\n",
       "</div>"
      ],
      "text/plain": [
       "          quantity   item_price\n",
       "count  4622.000000  4622.000000\n",
       "mean      1.075725     7.464336\n",
       "std       0.410186     4.245557\n",
       "min       1.000000     1.090000\n",
       "25%       1.000000     3.390000\n",
       "50%       1.000000     8.750000\n",
       "75%       1.000000     9.250000\n",
       "max      15.000000    44.250000"
      ]
     },
     "execution_count": 13,
     "metadata": {},
     "output_type": "execute_result"
    }
   ],
   "source": [
    "chipo['item_price'] = chipo['item_price'].apply(lambda x: float(x[1:]))\n",
    "chipo.describe()"
   ]
  },
  {
   "cell_type": "markdown",
   "id": "5108eb47",
   "metadata": {},
   "source": [
    "<h2>Step4 탐색적 분석하기</h2> --> 탐색적 분석의 목적은 ⭐️insight⭐️를 얻는 것입니다!!"
   ]
  },
  {
   "cell_type": "markdown",
   "id": "a9c4813d",
   "metadata": {},
   "source": [
    "<h3>주문당 평균 계산금액 출력하기</h3>"
   ]
  },
  {
   "cell_type": "code",
   "execution_count": 14,
   "id": "038c5119",
   "metadata": {},
   "outputs": [
    {
     "data": {
      "text/plain": [
       "18.811428571428568"
      ]
     },
     "execution_count": 14,
     "metadata": {},
     "output_type": "execute_result"
    }
   ],
   "source": [
    "chipo.groupby('order_id')['item_price'].sum().mean()"
   ]
  },
  {
   "cell_type": "markdown",
   "id": "2aa4f9d0",
   "metadata": {},
   "source": [
    "⭐️매빈쓰 insight⭐️: 주문번호당 평균 18달러를 벌겠구나!!"
   ]
  },
  {
   "cell_type": "markdown",
   "id": "9fefed43",
   "metadata": {},
   "source": [
    "<h3>한 주문에 10달러 이상 지불한 주문 번호 출력하기</h3>"
   ]
  },
  {
   "cell_type": "code",
   "execution_count": 16,
   "id": "ff34f361",
   "metadata": {},
   "outputs": [
    {
     "name": "stdout",
     "output_type": "stream",
     "text": [
      "          quantity  item_price\n",
      "order_id                      \n",
      "1                4       11.56\n",
      "10               2       13.20\n",
      "100              2       10.08\n",
      "1000             2       20.50\n",
      "1001             2       10.08\n",
      "1002             2       10.68\n",
      "1003             2       13.00\n",
      "1004             2       21.96\n",
      "1005             3       12.15\n",
      "1006             8       71.40\n",
      "['1' '10' '100' ... '997' '998' '999']\n"
     ]
    }
   ],
   "source": [
    "chipo_orderid_group = chipo.groupby('order_id').sum()\n",
    "results = chipo_orderid_group[chipo_orderid_group.item_price >= 10]\n",
    "\n",
    "print(results[:10])\n",
    "print(results.index.values)"
   ]
  },
  {
   "cell_type": "markdown",
   "id": "8f6894a9",
   "metadata": {},
   "source": [
    "⭐️매빈쓰 insight⭐️: 주문번호당 평균 18달러를 벌겠구나!!"
   ]
  },
  {
   "cell_type": "markdown",
   "id": "ab98b5a8",
   "metadata": {},
   "source": [
    "<h3>각 아이템의 가격 구하기</h3>"
   ]
  },
  {
   "cell_type": "code",
   "execution_count": 30,
   "id": "22d67188",
   "metadata": {},
   "outputs": [
    {
     "data": {
      "text/html": [
       "<div>\n",
       "<style scoped>\n",
       "    .dataframe tbody tr th:only-of-type {\n",
       "        vertical-align: middle;\n",
       "    }\n",
       "\n",
       "    .dataframe tbody tr th {\n",
       "        vertical-align: top;\n",
       "    }\n",
       "\n",
       "    .dataframe thead th {\n",
       "        text-align: right;\n",
       "    }\n",
       "</style>\n",
       "<table border=\"1\" class=\"dataframe\">\n",
       "  <thead>\n",
       "    <tr style=\"text-align: right;\">\n",
       "      <th></th>\n",
       "      <th>order_id</th>\n",
       "      <th>quantity</th>\n",
       "      <th>choice_description</th>\n",
       "      <th>item_price</th>\n",
       "    </tr>\n",
       "    <tr>\n",
       "      <th>item_name</th>\n",
       "      <th></th>\n",
       "      <th></th>\n",
       "      <th></th>\n",
       "      <th></th>\n",
       "    </tr>\n",
       "  </thead>\n",
       "  <tbody>\n",
       "    <tr>\n",
       "      <th>Steak Salad Bowl</th>\n",
       "      <td>1032</td>\n",
       "      <td>1</td>\n",
       "      <td>[Fresh Tomato Salsa, Lettuce]</td>\n",
       "      <td>9.39</td>\n",
       "    </tr>\n",
       "    <tr>\n",
       "      <th>Barbacoa Salad Bowl</th>\n",
       "      <td>1283</td>\n",
       "      <td>1</td>\n",
       "      <td>[Fresh Tomato Salsa, Guacamole]</td>\n",
       "      <td>9.39</td>\n",
       "    </tr>\n",
       "    <tr>\n",
       "      <th>Carnitas Salad Bowl</th>\n",
       "      <td>1035</td>\n",
       "      <td>1</td>\n",
       "      <td>[Fresh Tomato Salsa, [Rice, Black Beans, Chees...</td>\n",
       "      <td>9.39</td>\n",
       "    </tr>\n",
       "    <tr>\n",
       "      <th>Carnitas Soft Tacos</th>\n",
       "      <td>1011</td>\n",
       "      <td>1</td>\n",
       "      <td>[Fresh Tomato Salsa (Mild), [Black Beans, Rice...</td>\n",
       "      <td>8.99</td>\n",
       "    </tr>\n",
       "    <tr>\n",
       "      <th>Carnitas Crispy Tacos</th>\n",
       "      <td>1774</td>\n",
       "      <td>1</td>\n",
       "      <td>[Fresh Tomato Salsa, [Fajita Vegetables, Rice,...</td>\n",
       "      <td>8.99</td>\n",
       "    </tr>\n",
       "    <tr>\n",
       "      <th>Steak Soft Tacos</th>\n",
       "      <td>1054</td>\n",
       "      <td>1</td>\n",
       "      <td>[Fresh Tomato Salsa (Mild), [Cheese, Sour Cream]]</td>\n",
       "      <td>8.99</td>\n",
       "    </tr>\n",
       "    <tr>\n",
       "      <th>Carnitas Salad</th>\n",
       "      <td>1500</td>\n",
       "      <td>1</td>\n",
       "      <td>[[Fresh Tomato Salsa (Mild), Roasted Chili Cor...</td>\n",
       "      <td>8.99</td>\n",
       "    </tr>\n",
       "    <tr>\n",
       "      <th>Carnitas Bowl</th>\n",
       "      <td>1007</td>\n",
       "      <td>1</td>\n",
       "      <td>[Fresh Tomato (Mild), [Guacamole, Lettuce, Ric...</td>\n",
       "      <td>8.99</td>\n",
       "    </tr>\n",
       "    <tr>\n",
       "      <th>Barbacoa Soft Tacos</th>\n",
       "      <td>1103</td>\n",
       "      <td>1</td>\n",
       "      <td>[Fresh Tomato Salsa, [Black Beans, Cheese, Let...</td>\n",
       "      <td>8.99</td>\n",
       "    </tr>\n",
       "    <tr>\n",
       "      <th>Barbacoa Crispy Tacos</th>\n",
       "      <td>110</td>\n",
       "      <td>1</td>\n",
       "      <td>[Fresh Tomato Salsa, Guacamole]</td>\n",
       "      <td>8.99</td>\n",
       "    </tr>\n",
       "  </tbody>\n",
       "</table>\n",
       "</div>"
      ],
      "text/plain": [
       "                      order_id  quantity  \\\n",
       "item_name                                  \n",
       "Steak Salad Bowl          1032         1   \n",
       "Barbacoa Salad Bowl       1283         1   \n",
       "Carnitas Salad Bowl       1035         1   \n",
       "Carnitas Soft Tacos       1011         1   \n",
       "Carnitas Crispy Tacos     1774         1   \n",
       "Steak Soft Tacos          1054         1   \n",
       "Carnitas Salad            1500         1   \n",
       "Carnitas Bowl             1007         1   \n",
       "Barbacoa Soft Tacos       1103         1   \n",
       "Barbacoa Crispy Tacos      110         1   \n",
       "\n",
       "                                                      choice_description  \\\n",
       "item_name                                                                  \n",
       "Steak Salad Bowl                           [Fresh Tomato Salsa, Lettuce]   \n",
       "Barbacoa Salad Bowl                      [Fresh Tomato Salsa, Guacamole]   \n",
       "Carnitas Salad Bowl    [Fresh Tomato Salsa, [Rice, Black Beans, Chees...   \n",
       "Carnitas Soft Tacos    [Fresh Tomato Salsa (Mild), [Black Beans, Rice...   \n",
       "Carnitas Crispy Tacos  [Fresh Tomato Salsa, [Fajita Vegetables, Rice,...   \n",
       "Steak Soft Tacos       [Fresh Tomato Salsa (Mild), [Cheese, Sour Cream]]   \n",
       "Carnitas Salad         [[Fresh Tomato Salsa (Mild), Roasted Chili Cor...   \n",
       "Carnitas Bowl          [Fresh Tomato (Mild), [Guacamole, Lettuce, Ric...   \n",
       "Barbacoa Soft Tacos    [Fresh Tomato Salsa, [Black Beans, Cheese, Let...   \n",
       "Barbacoa Crispy Tacos                    [Fresh Tomato Salsa, Guacamole]   \n",
       "\n",
       "                       item_price  \n",
       "item_name                          \n",
       "Steak Salad Bowl             9.39  \n",
       "Barbacoa Salad Bowl          9.39  \n",
       "Carnitas Salad Bowl          9.39  \n",
       "Carnitas Soft Tacos          8.99  \n",
       "Carnitas Crispy Tacos        8.99  \n",
       "Steak Soft Tacos             8.99  \n",
       "Carnitas Salad               8.99  \n",
       "Carnitas Bowl                8.99  \n",
       "Barbacoa Soft Tacos          8.99  \n",
       "Barbacoa Crispy Tacos        8.99  "
      ]
     },
     "execution_count": 30,
     "metadata": {},
     "output_type": "execute_result"
    }
   ],
   "source": [
    "chipo_one_item = chipo[chipo.quantity == 1]\n",
    "price_per_item = chipo_one_item.groupby('item_name').min()\n",
    "price_per_item.sort_values(by = 'item_price', ascending = False)[:10]"
   ]
  },
  {
   "cell_type": "markdown",
   "id": "9b7ee8b6",
   "metadata": {},
   "source": [
    "아이템의 가격 분포 그래프를 출력해보기"
   ]
  },
  {
   "cell_type": "code",
   "execution_count": 32,
   "id": "24795a48",
   "metadata": {},
   "outputs": [
    {
     "data": {
      "image/png": "[encoded data removed]",
      "text/plain": [
       "<Figure size 432x288 with 1 Axes>"
      ]
     },
     "metadata": {
      "needs_background": "light"
     },
     "output_type": "display_data"
    },
    {
     "data": {
      "image/png": "[encoded data removed]",
      "text/plain": [
       "<Figure size 432x288 with 1 Axes>"
      ]
     },
     "metadata": {
      "needs_background": "light"
     },
     "output_type": "display_data"
    }
   ],
   "source": [
    "item_name_list = price_per_item.index.tolist()\n",
    "x_pos = np.arange(len(item_name_list))\n",
    "item_price = price_per_item['item_price'].tolist()\n",
    "\n",
    "plt.bar(x_pos, item_price, align='center')\n",
    "plt.ylabel('item price($)')\n",
    "plt.title('Distribution of item price')\n",
    "plt.show()\n",
    "\n",
    "plt.hist(item_price)\n",
    "plt.ylabel('counts')\n",
    "plt.title('Histogram of itm price')\n",
    "plt.show()"
   ]
  },
  {
   "cell_type": "markdown",
   "id": "abab1578",
   "metadata": {},
   "source": [
    "<h3>가장 비싼 주문에서 아이템이 총 몇 개 팔렸는지 구하기</h3>"
   ]
  },
  {
   "cell_type": "code",
   "execution_count": 33,
   "id": "4e27c973",
   "metadata": {},
   "outputs": [
    {
     "data": {
      "text/html": [
       "<div>\n",
       "<style scoped>\n",
       "    .dataframe tbody tr th:only-of-type {\n",
       "        vertical-align: middle;\n",
       "    }\n",
       "\n",
       "    .dataframe tbody tr th {\n",
       "        vertical-align: top;\n",
       "    }\n",
       "\n",
       "    .dataframe thead th {\n",
       "        text-align: right;\n",
       "    }\n",
       "</style>\n",
       "<table border=\"1\" class=\"dataframe\">\n",
       "  <thead>\n",
       "    <tr style=\"text-align: right;\">\n",
       "      <th></th>\n",
       "      <th>quantity</th>\n",
       "      <th>item_price</th>\n",
       "    </tr>\n",
       "    <tr>\n",
       "      <th>order_id</th>\n",
       "      <th></th>\n",
       "      <th></th>\n",
       "    </tr>\n",
       "  </thead>\n",
       "  <tbody>\n",
       "    <tr>\n",
       "      <th>926</th>\n",
       "      <td>23</td>\n",
       "      <td>205.25</td>\n",
       "    </tr>\n",
       "    <tr>\n",
       "      <th>1443</th>\n",
       "      <td>35</td>\n",
       "      <td>160.74</td>\n",
       "    </tr>\n",
       "    <tr>\n",
       "      <th>1483</th>\n",
       "      <td>14</td>\n",
       "      <td>139.00</td>\n",
       "    </tr>\n",
       "    <tr>\n",
       "      <th>691</th>\n",
       "      <td>11</td>\n",
       "      <td>118.25</td>\n",
       "    </tr>\n",
       "    <tr>\n",
       "      <th>1786</th>\n",
       "      <td>20</td>\n",
       "      <td>114.30</td>\n",
       "    </tr>\n",
       "  </tbody>\n",
       "</table>\n",
       "</div>"
      ],
      "text/plain": [
       "          quantity  item_price\n",
       "order_id                      \n",
       "926             23      205.25\n",
       "1443            35      160.74\n",
       "1483            14      139.00\n",
       "691             11      118.25\n",
       "1786            20      114.30"
      ]
     },
     "execution_count": 33,
     "metadata": {},
     "output_type": "execute_result"
    }
   ],
   "source": [
    "chipo.groupby('order_id').sum().sort_values(by='item_price', ascending=False)[:5]"
   ]
  },
  {
   "cell_type": "markdown",
   "id": "f1c520f5",
   "metadata": {},
   "source": [
    "<h3>Veggie Salad Bowl이 몇 번 주문되었는지 구하기</h3>"
   ]
  },
  {
   "cell_type": "code",
   "execution_count": 35,
   "id": "9c9166e0",
   "metadata": {},
   "outputs": [
    {
     "name": "stdout",
     "output_type": "stream",
     "text": [
      "18\n"
     ]
    },
    {
     "data": {
      "text/html": [
       "<div>\n",
       "<style scoped>\n",
       "    .dataframe tbody tr th:only-of-type {\n",
       "        vertical-align: middle;\n",
       "    }\n",
       "\n",
       "    .dataframe tbody tr th {\n",
       "        vertical-align: top;\n",
       "    }\n",
       "\n",
       "    .dataframe thead th {\n",
       "        text-align: right;\n",
       "    }\n",
       "</style>\n",
       "<table border=\"1\" class=\"dataframe\">\n",
       "  <thead>\n",
       "    <tr style=\"text-align: right;\">\n",
       "      <th></th>\n",
       "      <th>order_id</th>\n",
       "      <th>quantity</th>\n",
       "      <th>item_name</th>\n",
       "      <th>choice_description</th>\n",
       "      <th>item_price</th>\n",
       "    </tr>\n",
       "  </thead>\n",
       "  <tbody>\n",
       "    <tr>\n",
       "      <th>186</th>\n",
       "      <td>83</td>\n",
       "      <td>1</td>\n",
       "      <td>Veggie Salad Bowl</td>\n",
       "      <td>[Fresh Tomato Salsa, [Fajita Vegetables, Rice,...</td>\n",
       "      <td>11.25</td>\n",
       "    </tr>\n",
       "    <tr>\n",
       "      <th>295</th>\n",
       "      <td>128</td>\n",
       "      <td>1</td>\n",
       "      <td>Veggie Salad Bowl</td>\n",
       "      <td>[Fresh Tomato Salsa, [Fajita Vegetables, Lettu...</td>\n",
       "      <td>11.25</td>\n",
       "    </tr>\n",
       "    <tr>\n",
       "      <th>455</th>\n",
       "      <td>195</td>\n",
       "      <td>1</td>\n",
       "      <td>Veggie Salad Bowl</td>\n",
       "      <td>[Fresh Tomato Salsa, [Fajita Vegetables, Rice,...</td>\n",
       "      <td>11.25</td>\n",
       "    </tr>\n",
       "    <tr>\n",
       "      <th>496</th>\n",
       "      <td>207</td>\n",
       "      <td>1</td>\n",
       "      <td>Veggie Salad Bowl</td>\n",
       "      <td>[Fresh Tomato Salsa, [Rice, Lettuce, Guacamole...</td>\n",
       "      <td>11.25</td>\n",
       "    </tr>\n",
       "    <tr>\n",
       "      <th>960</th>\n",
       "      <td>394</td>\n",
       "      <td>1</td>\n",
       "      <td>Veggie Salad Bowl</td>\n",
       "      <td>[Fresh Tomato Salsa, [Fajita Vegetables, Lettu...</td>\n",
       "      <td>8.75</td>\n",
       "    </tr>\n",
       "  </tbody>\n",
       "</table>\n",
       "</div>"
      ],
      "text/plain": [
       "    order_id  quantity          item_name  \\\n",
       "186       83         1  Veggie Salad Bowl   \n",
       "295      128         1  Veggie Salad Bowl   \n",
       "455      195         1  Veggie Salad Bowl   \n",
       "496      207         1  Veggie Salad Bowl   \n",
       "960      394         1  Veggie Salad Bowl   \n",
       "\n",
       "                                    choice_description  item_price  \n",
       "186  [Fresh Tomato Salsa, [Fajita Vegetables, Rice,...       11.25  \n",
       "295  [Fresh Tomato Salsa, [Fajita Vegetables, Lettu...       11.25  \n",
       "455  [Fresh Tomato Salsa, [Fajita Vegetables, Rice,...       11.25  \n",
       "496  [Fresh Tomato Salsa, [Rice, Lettuce, Guacamole...       11.25  \n",
       "960  [Fresh Tomato Salsa, [Fajita Vegetables, Lettu...        8.75  "
      ]
     },
     "execution_count": 35,
     "metadata": {},
     "output_type": "execute_result"
    }
   ],
   "source": [
    "chipo_salad = chipo[chipo['item_name']==\"Veggie Salad Bowl\"]\n",
    "chipo_salad = chipo_salad.drop_duplicates(['item_name', 'order_id'])\n",
    "\n",
    "print(len(chipo_salad))\n",
    "chipo_salad.head(5)"
   ]
  },
  {
   "cell_type": "markdown",
   "id": "6840ed6b",
   "metadata": {},
   "source": [
    "<h3>Chicken Bowl을 2개 이상 주문한 주문 횟수 구하기</h3>"
   ]
  },
  {
   "cell_type": "code",
   "execution_count": 37,
   "id": "29b61a3a",
   "metadata": {},
   "outputs": [
    {
     "name": "stdout",
     "output_type": "stream",
     "text": [
      "33\n"
     ]
    }
   ],
   "source": [
    "chipo_chicken = chipo[chipo['item_name']==\"Chicken Bowl\"]\n",
    "chipo_chicken_result = chipo_chicken[chipo_chicken['quantity']>=2]\n",
    "print(chipo_chicken_result.shape[0])"
   ]
  }
 ],
 "metadata": {
  "kernelspec": {
   "display_name": "Python 3 (ipykernel)",
   "language": "python",
   "name": "python3"
  },
  "language_info": {
   "codemirror_mode": {
    "name": "ipython",
    "version": 3
   },
   "file_extension": ".py",
   "mimetype": "text/x-python",
   "name": "python",
   "nbconvert_exporter": "python",
   "pygments_lexer": "ipython3",
   "version": "3.8.10"
  }
 },
 "nbformat": 4,
 "nbformat_minor": 5
}
