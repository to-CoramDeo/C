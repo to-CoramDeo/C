{
 "cells": [
  {
   "cell_type": "code",
   "execution_count": 1,
   "id": "6d67c0c1",
   "metadata": {},
   "outputs": [],
   "source": [
    "# 주피터 노트북에서 Matploloib으로 시각화된 그래프를 출력할 수 있게 해줍니다.\n",
    "%matplotlib inline\n",
    "# matplotlib을 불러오고 plt으로 축약해서 사용합니다.\n",
    "import matplotlib.pyplot as plt"
   ]
  },
  {
   "cell_type": "code",
   "execution_count": 2,
   "id": "3706a6f5",
   "metadata": {},
   "outputs": [],
   "source": [
    "# 판다스에서 실습한 것을 가져오겠습니다.\n",
    "import pandas as pd\n",
    "names = ['남혜빈', '이요섭', '이철현', '임민석', '조성경']\n",
    "births = [1999, 1998, 1999, 1998, 1999]\n",
    "\n",
    "HanaDataSet = list(zip(names, births))\n",
    "df = pd.DataFrame(data = HanaDataSet, columns=['Names', 'Births'])"
   ]
  },
  {
   "cell_type": "code",
   "execution_count": 3,
   "id": "d2fd7617",
   "metadata": {},
   "outputs": [
    {
     "name": "stderr",
     "output_type": "stream",
     "text": [
      "/Users/namhyebin/Program/anaconda3/envs/EnvDataAnalysis/lib/python3.8/site-packages/matplotlib/backends/backend_agg.py:240: RuntimeWarning: Glyph 45224 missing from current font.\n",
      "  font.set_text(s, 0.0, flags=flags)\n",
      "/Users/namhyebin/Program/anaconda3/envs/EnvDataAnalysis/lib/python3.8/site-packages/matplotlib/backends/backend_agg.py:240: RuntimeWarning: Glyph 54812 missing from current font.\n",
      "  font.set_text(s, 0.0, flags=flags)\n",
      "/Users/namhyebin/Program/anaconda3/envs/EnvDataAnalysis/lib/python3.8/site-packages/matplotlib/backends/backend_agg.py:240: RuntimeWarning: Glyph 48712 missing from current font.\n",
      "  font.set_text(s, 0.0, flags=flags)\n",
      "/Users/namhyebin/Program/anaconda3/envs/EnvDataAnalysis/lib/python3.8/site-packages/matplotlib/backends/backend_agg.py:240: RuntimeWarning: Glyph 51060 missing from current font.\n",
      "  font.set_text(s, 0.0, flags=flags)\n",
      "/Users/namhyebin/Program/anaconda3/envs/EnvDataAnalysis/lib/python3.8/site-packages/matplotlib/backends/backend_agg.py:240: RuntimeWarning: Glyph 50836 missing from current font.\n",
      "  font.set_text(s, 0.0, flags=flags)\n",
      "/Users/namhyebin/Program/anaconda3/envs/EnvDataAnalysis/lib/python3.8/site-packages/matplotlib/backends/backend_agg.py:240: RuntimeWarning: Glyph 49453 missing from current font.\n",
      "  font.set_text(s, 0.0, flags=flags)\n",
      "/Users/namhyebin/Program/anaconda3/envs/EnvDataAnalysis/lib/python3.8/site-packages/matplotlib/backends/backend_agg.py:240: RuntimeWarning: Glyph 52384 missing from current font.\n",
      "  font.set_text(s, 0.0, flags=flags)\n",
      "/Users/namhyebin/Program/anaconda3/envs/EnvDataAnalysis/lib/python3.8/site-packages/matplotlib/backends/backend_agg.py:240: RuntimeWarning: Glyph 54788 missing from current font.\n",
      "  font.set_text(s, 0.0, flags=flags)\n",
      "/Users/namhyebin/Program/anaconda3/envs/EnvDataAnalysis/lib/python3.8/site-packages/matplotlib/backends/backend_agg.py:240: RuntimeWarning: Glyph 51076 missing from current font.\n",
      "  font.set_text(s, 0.0, flags=flags)\n",
      "/Users/namhyebin/Program/anaconda3/envs/EnvDataAnalysis/lib/python3.8/site-packages/matplotlib/backends/backend_agg.py:240: RuntimeWarning: Glyph 48124 missing from current font.\n",
      "  font.set_text(s, 0.0, flags=flags)\n",
      "/Users/namhyebin/Program/anaconda3/envs/EnvDataAnalysis/lib/python3.8/site-packages/matplotlib/backends/backend_agg.py:240: RuntimeWarning: Glyph 49437 missing from current font.\n",
      "  font.set_text(s, 0.0, flags=flags)\n",
      "/Users/namhyebin/Program/anaconda3/envs/EnvDataAnalysis/lib/python3.8/site-packages/matplotlib/backends/backend_agg.py:240: RuntimeWarning: Glyph 51312 missing from current font.\n",
      "  font.set_text(s, 0.0, flags=flags)\n",
      "/Users/namhyebin/Program/anaconda3/envs/EnvDataAnalysis/lib/python3.8/site-packages/matplotlib/backends/backend_agg.py:240: RuntimeWarning: Glyph 49457 missing from current font.\n",
      "  font.set_text(s, 0.0, flags=flags)\n",
      "/Users/namhyebin/Program/anaconda3/envs/EnvDataAnalysis/lib/python3.8/site-packages/matplotlib/backends/backend_agg.py:240: RuntimeWarning: Glyph 44221 missing from current font.\n",
      "  font.set_text(s, 0.0, flags=flags)\n",
      "/Users/namhyebin/Program/anaconda3/envs/EnvDataAnalysis/lib/python3.8/site-packages/matplotlib/backends/backend_agg.py:203: RuntimeWarning: Glyph 45224 missing from current font.\n",
      "  font.set_text(s, 0, flags=flags)\n",
      "/Users/namhyebin/Program/anaconda3/envs/EnvDataAnalysis/lib/python3.8/site-packages/matplotlib/backends/backend_agg.py:203: RuntimeWarning: Glyph 54812 missing from current font.\n",
      "  font.set_text(s, 0, flags=flags)\n",
      "/Users/namhyebin/Program/anaconda3/envs/EnvDataAnalysis/lib/python3.8/site-packages/matplotlib/backends/backend_agg.py:203: RuntimeWarning: Glyph 48712 missing from current font.\n",
      "  font.set_text(s, 0, flags=flags)\n",
      "/Users/namhyebin/Program/anaconda3/envs/EnvDataAnalysis/lib/python3.8/site-packages/matplotlib/backends/backend_agg.py:203: RuntimeWarning: Glyph 51060 missing from current font.\n",
      "  font.set_text(s, 0, flags=flags)\n",
      "/Users/namhyebin/Program/anaconda3/envs/EnvDataAnalysis/lib/python3.8/site-packages/matplotlib/backends/backend_agg.py:203: RuntimeWarning: Glyph 50836 missing from current font.\n",
      "  font.set_text(s, 0, flags=flags)\n",
      "/Users/namhyebin/Program/anaconda3/envs/EnvDataAnalysis/lib/python3.8/site-packages/matplotlib/backends/backend_agg.py:203: RuntimeWarning: Glyph 49453 missing from current font.\n",
      "  font.set_text(s, 0, flags=flags)\n",
      "/Users/namhyebin/Program/anaconda3/envs/EnvDataAnalysis/lib/python3.8/site-packages/matplotlib/backends/backend_agg.py:203: RuntimeWarning: Glyph 52384 missing from current font.\n",
      "  font.set_text(s, 0, flags=flags)\n",
      "/Users/namhyebin/Program/anaconda3/envs/EnvDataAnalysis/lib/python3.8/site-packages/matplotlib/backends/backend_agg.py:203: RuntimeWarning: Glyph 54788 missing from current font.\n",
      "  font.set_text(s, 0, flags=flags)\n",
      "/Users/namhyebin/Program/anaconda3/envs/EnvDataAnalysis/lib/python3.8/site-packages/matplotlib/backends/backend_agg.py:203: RuntimeWarning: Glyph 51076 missing from current font.\n",
      "  font.set_text(s, 0, flags=flags)\n",
      "/Users/namhyebin/Program/anaconda3/envs/EnvDataAnalysis/lib/python3.8/site-packages/matplotlib/backends/backend_agg.py:203: RuntimeWarning: Glyph 48124 missing from current font.\n",
      "  font.set_text(s, 0, flags=flags)\n",
      "/Users/namhyebin/Program/anaconda3/envs/EnvDataAnalysis/lib/python3.8/site-packages/matplotlib/backends/backend_agg.py:203: RuntimeWarning: Glyph 49437 missing from current font.\n",
      "  font.set_text(s, 0, flags=flags)\n",
      "/Users/namhyebin/Program/anaconda3/envs/EnvDataAnalysis/lib/python3.8/site-packages/matplotlib/backends/backend_agg.py:203: RuntimeWarning: Glyph 51312 missing from current font.\n",
      "  font.set_text(s, 0, flags=flags)\n",
      "/Users/namhyebin/Program/anaconda3/envs/EnvDataAnalysis/lib/python3.8/site-packages/matplotlib/backends/backend_agg.py:203: RuntimeWarning: Glyph 49457 missing from current font.\n",
      "  font.set_text(s, 0, flags=flags)\n",
      "/Users/namhyebin/Program/anaconda3/envs/EnvDataAnalysis/lib/python3.8/site-packages/matplotlib/backends/backend_agg.py:203: RuntimeWarning: Glyph 44221 missing from current font.\n",
      "  font.set_text(s, 0, flags=flags)\n"
     ]
    },
    {
     "data": {
      "image/png": "[encoded data removed]",
      "text/plain": [
       "<Figure size 432x288 with 1 Axes>"
      ]
     },
     "metadata": {
      "needs_background": "light"
     },
     "output_type": "display_data"
    }
   ],
   "source": [
    "# 1. 막대 그래프(plt.bar) 출력하기\n",
    "y = df['Births']\n",
    "x = df['Names']\n",
    "\n",
    "plt.bar(x,y) # 그래프 객체 생성\n",
    "plt.xlabel('Names') # y축 제목\n",
    "plt.ylabel('Births') # x축 제목\n",
    "plt.title('Bar plot') # 그래프 제목\n",
    "plt.show() # 그래프 출력"
   ]
  },
  {
   "cell_type": "code",
   "execution_count": 5,
   "id": "0443398d",
   "metadata": {},
   "outputs": [],
   "source": [
    "import numpy as np"
   ]
  },
  {
   "cell_type": "code",
   "execution_count": 10,
   "id": "f4235188",
   "metadata": {},
   "outputs": [
    {
     "data": {
      "image/png": "[encoded data removed]",
      "text/plain": [
       "<Figure size 432x288 with 1 Axes>"
      ]
     },
     "metadata": {
      "needs_background": "light"
     },
     "output_type": "display_data"
    }
   ],
   "source": [
    "# 2. 산점도(scattor) 그래프(plot) 출력하기\n",
    "# 랜덤 추출 시드를 고정합니다.\n",
    "np.random.seed(19920613)\n",
    "\n",
    "# 산점도 데이터를 생성합니다.\n",
    "x = np.arange(0.0, 100.0, 5.0)\n",
    "y = (x * 1.5) + np.random.rand(20) * 50\n",
    "\n",
    "# 산점도 데이터를 출력합니다.\n",
    "plt.scatter(x,y, c=\"b\", alpha=0.5, label=\"scatter point\")\n",
    "plt.xlabel(\"X\")\n",
    "plt.ylabel(\"Y\")\n",
    "plt.legend(loc='upper left')\n",
    "plt.title('Scatter plot')\n",
    "plt.show()"
   ]
  },
  {
   "cell_type": "code",
   "execution_count": null,
   "id": "8511ca7c",
   "metadata": {},
   "outputs": [],
   "source": []
  }
 ],
 "metadata": {
  "kernelspec": {
   "display_name": "Python 3 (ipykernel)",
   "language": "python",
   "name": "python3"
  },
  "language_info": {
   "codemirror_mode": {
    "name": "ipython",
    "version": 3
   },
   "file_extension": ".py",
   "mimetype": "text/x-python",
   "name": "python",
   "nbconvert_exporter": "python",
   "pygments_lexer": "ipython3",
   "version": "3.8.10"
  }
 },
 "nbformat": 4,
 "nbformat_minor": 5
}
